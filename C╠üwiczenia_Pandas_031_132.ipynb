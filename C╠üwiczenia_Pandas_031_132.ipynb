{
 "cells": [
  {
   "cell_type": "markdown",
   "metadata": {},
   "source": [
    "# Ćwiczenia - Pandas"
   ]
  },
  {
   "cell_type": "code",
   "execution_count": null,
   "metadata": {},
   "outputs": [],
   "source": [
    "import pandas as pd\n",
    "import numpy as np"
   ]
  },
  {
   "cell_type": "markdown",
   "metadata": {},
   "source": [
    "## Ćwiczenie 31\n",
    "\n",
    "Załaduje plik csv dostępny jako adres URL do obiektu DataFrame i wyświetl pierwsze 5 wierszy."
   ]
  },
  {
   "cell_type": "code",
   "execution_count": null,
   "metadata": {},
   "outputs": [],
   "source": [
    "url = 'https://ml-repository-krakers.s3-eu-west-1.amazonaws.com/kaggle+/churn_modelling/Telco-Customer-Churn.csv'"
   ]
  },
  {
   "cell_type": "markdown",
   "metadata": {},
   "source": [
    "## Ćwiczenie 32\n",
    "\n",
    "W obiekcie DataFrame z ćwiczenia 31 określ liczbę brakujących danych w każdej kolumnie (zmiennej). Wyświetl wynik. "
   ]
  },
  {
   "cell_type": "code",
   "execution_count": null,
   "metadata": {},
   "outputs": [],
   "source": []
  },
  {
   "cell_type": "markdown",
   "metadata": {},
   "source": [
    "## Ćwiczenie 33\n",
    "\n",
    "Obiekt DataFrame z ćwiczenia 31 posiada kolumnę TotalCharges. Typ tej kolumny to - object, chociaż zawiera ona dane numeryczne. Ustal dlaczego tak jest. Następnie uzupełnij brakujące dane medianą kolumny TotalCharges i przekonwertuj ją do typu float. "
   ]
  },
  {
   "cell_type": "code",
   "execution_count": null,
   "metadata": {},
   "outputs": [],
   "source": []
  },
  {
   "cell_type": "markdown",
   "metadata": {},
   "source": [
    "## Ćwiczenie 34\n",
    "\n",
    "W obiekcie DataFrame z ćwiczenia 34 zmień typ kolumn z listy categorical na category, a z listy numerical na float."
   ]
  },
  {
   "cell_type": "code",
   "execution_count": null,
   "metadata": {},
   "outputs": [],
   "source": [
    "categorical = ['gender', 'SeniorCitizen', 'Partner', 'Dependents', 'PhoneService', 'MultipleLines', \n",
    "               'InternetService', 'OnlineSecurity', 'OnlineBackup', 'DeviceProtection', 'TechSupport',\n",
    "               'StreamingTV', 'Contract', 'StreamingMovies', 'PaperlessBilling', 'PaymentMethod', 'Churn'] \n",
    "\n",
    "numerical = ['tenure', 'MonthlyCharges']"
   ]
  },
  {
   "cell_type": "markdown",
   "metadata": {},
   "source": [
    "## Ćwiczenie 35\n",
    "\n",
    "Wyświetl podstawowe statystyki kolumn zawierających zmienne kategorialne w obiekcie DataFrame z ćwiczenia 34."
   ]
  },
  {
   "cell_type": "code",
   "execution_count": null,
   "metadata": {},
   "outputs": [],
   "source": []
  },
  {
   "cell_type": "markdown",
   "metadata": {},
   "source": [
    "## Cwiczenie 36\n",
    "\n",
    "Znajdź rozkład zmiennej Churn z obiektu DataFrame z ćwiczenia 34"
   ]
  },
  {
   "cell_type": "code",
   "execution_count": null,
   "metadata": {},
   "outputs": [],
   "source": []
  },
  {
   "cell_type": "markdown",
   "metadata": {},
   "source": [
    "## Ćwiczenie 37\n",
    "\n",
    "Pogrupuj dane w obiekcie DataFrame według zmiennej Churn, następnie PaymentMethod i dla tak pogrupowanego zbioru oblicz średnią wartość zmiennej MonthlyCharges.\n",
    "\n",
    "Oczekiwany wynik:\n",
    "\n",
    "    Churn  PaymentMethod            \n",
    "    No     Bank transfer (automatic)    65.049417\n",
    "           Credit card (automatic)      64.562209\n",
    "           Electronic check             74.232032\n",
    "           Mailed check                 41.403911\n",
    "    Yes    Bank transfer (automatic)    77.875581\n",
    "           Credit card (automatic)      77.356034\n",
    "           Electronic check             78.700980\n",
    "           Mailed check                 54.557143\n",
    "    Name: MonthlyCharges, dtype: float64\n"
   ]
  },
  {
   "cell_type": "code",
   "execution_count": null,
   "metadata": {},
   "outputs": [],
   "source": []
  },
  {
   "cell_type": "markdown",
   "metadata": {},
   "source": [
    "## Ćwiczenie 38\n",
    "\n",
    "W obiekcie DataFrame z ćwiczenia 34 zamapuj wartości z kolumny Churn:\n",
    "\n",
    "    \"Yes\" -> 1\n",
    "    \"No\"  -> 0"
   ]
  },
  {
   "cell_type": "code",
   "execution_count": null,
   "metadata": {},
   "outputs": [],
   "source": []
  },
  {
   "cell_type": "markdown",
   "metadata": {},
   "source": [
    "## Ćwiczenie 39\n",
    "\n",
    "Wyznacz dla zmiennych numerycznych w obiekcie DataFrame z ćwiczenia 34 macierz korelacji (samodzielnie odszukaj właściwą funkcję języka Python)."
   ]
  },
  {
   "cell_type": "code",
   "execution_count": null,
   "metadata": {},
   "outputs": [],
   "source": []
  },
  {
   "cell_type": "markdown",
   "metadata": {},
   "source": [
    "## Ćwiczenie 40\n",
    "\n",
    "Z obiektu DataFrame z ćwiczenia 34 pobierz dziesięć przypadkowych wierszy (próbkę) i zapisz pobrane dane do pliku w formacie csv."
   ]
  },
  {
   "cell_type": "code",
   "execution_count": null,
   "metadata": {},
   "outputs": [],
   "source": []
  },
  {
   "cell_type": "markdown",
   "metadata": {},
   "source": [
    "## Ćwiczenie 41\n",
    "\n",
    "Podane są dwa obiekty typu Series. Połącz te dwa obiekty w jeden obiekt typu DataFrame (jako dwie kolumny) i przypisz do zmiennej. Nazwij kolumny odpowiednio col1 i col2."
   ]
  },
  {
   "cell_type": "code",
   "execution_count": null,
   "metadata": {},
   "outputs": [],
   "source": [
    "np.random.seed(42)\n",
    "s1 = pd.Series(np.random.rand(20))\n",
    "s2 = pd.Series(np.random.randn(20))"
   ]
  },
  {
   "cell_type": "markdown",
   "metadata": {},
   "source": [
    "## Ćwiczenie 42\n",
    "\n",
    "Z obiektu DataFrame z ćwiczenia 41 wyodrębnij wiersze, dla których wartości w kolumnie col2 zawierają się między 0.0 a 1.0 (włącznie).  "
   ]
  },
  {
   "cell_type": "code",
   "execution_count": null,
   "metadata": {},
   "outputs": [],
   "source": []
  },
  {
   "cell_type": "markdown",
   "metadata": {},
   "source": [
    "## Ćwiczenie 43\n",
    "\n",
    "Do obiektu DataFrame z ćwiczenia 41 dodaj nową kolumnę col3, która będzie miała wartości 1, gdy wartość w kolumnie col2 jest nieujemna i -1 w przypadku przeciwnym."
   ]
  },
  {
   "cell_type": "code",
   "execution_count": null,
   "metadata": {},
   "outputs": [],
   "source": []
  },
  {
   "cell_type": "markdown",
   "metadata": {},
   "source": [
    "## Ćwiczenie 44\n",
    "\n",
    "Do obiektu DataFrame z ćwiczenia 43 dodaj nową kolumnę col4, która obetnie wartości z kolumny col2 do przedziału -1.0 do 1.0. Czyli dla wartości w col2 mniejszych niż -1.0 będzie to -1.0 a dla wartości większych od 1.0 będzie to 1.0."
   ]
  },
  {
   "cell_type": "code",
   "execution_count": null,
   "metadata": {},
   "outputs": [],
   "source": []
  },
  {
   "cell_type": "markdown",
   "metadata": {},
   "source": [
    "## Ćwiczenie 45\n",
    "\n",
    "Dla obiektu DataFrame z ćwiczenia 45 wykonaj poniższe polecenia:\n",
    "- wydrukuj 5 wierszy kolumny col2 o najwyższych wartościach\n",
    "- wydrukuj 5 wierszy kolumny col2 o najniższych wartościach"
   ]
  },
  {
   "cell_type": "code",
   "execution_count": null,
   "metadata": {},
   "outputs": [],
   "source": []
  },
  {
   "cell_type": "markdown",
   "metadata": {},
   "source": [
    "## Ćwiczenie 46\n",
    "\n",
    "Oblicz skumulowaną sumą wartości we wszystkich kolumnach obiektu DataFrame z ćwiczenia 41."
   ]
  },
  {
   "cell_type": "code",
   "execution_count": null,
   "metadata": {},
   "outputs": [],
   "source": []
  },
  {
   "cell_type": "markdown",
   "metadata": {},
   "source": [
    "## Ćwiczenie 47\n",
    "\n",
    "Oblicz medianę (lub kwantyl rzędu 0.5) wartości z kolumny col2 obiektu DataFrame z ćwiczenia 41."
   ]
  },
  {
   "cell_type": "code",
   "execution_count": null,
   "metadata": {},
   "outputs": [],
   "source": []
  },
  {
   "cell_type": "markdown",
   "metadata": {},
   "source": [
    "## Ćwiczenie 48\n",
    "\n",
    "Wyodrębnij wiersze dla których zmienna col2 przyjmuje wartości większe niż 0.0 z obiektu DataFrame z ćwiczenia 41."
   ]
  },
  {
   "cell_type": "code",
   "execution_count": null,
   "metadata": {},
   "outputs": [],
   "source": []
  },
  {
   "cell_type": "markdown",
   "metadata": {},
   "source": [
    "## Ćwiczenie 49\n",
    "\n",
    "Wyodrębnij pierwsze 5 wierszy z obiektu DataFrame z ćwiczenia 41 wykonaj ich konwersję na zmienną typu dictionary (słownik)."
   ]
  },
  {
   "cell_type": "code",
   "execution_count": null,
   "metadata": {},
   "outputs": [],
   "source": []
  },
  {
   "cell_type": "markdown",
   "metadata": {},
   "source": [
    "## Ćwiczenie 50\n",
    "\n",
    "Wyodrębnij 5 wierszy obiektu DataFrame z ćwiczenia 41 i przkonwertuj je na format HTML."
   ]
  },
  {
   "cell_type": "code",
   "execution_count": null,
   "metadata": {},
   "outputs": [],
   "source": []
  },
  {
   "cell_type": "markdown",
   "metadata": {},
   "source": [
    "## Ćwiczenie 51\n",
    "\n",
    "Z podanego poniżej obiektu typu DataFrame wyodrębnij wiersze dla których dane w kolumnie C przyjmują wartości większe niż 0.8."
   ]
  },
  {
   "cell_type": "code",
   "execution_count": null,
   "metadata": {},
   "outputs": [],
   "source": [
    "np.random.seed(42)\n",
    "df = pd.DataFrame(np.random.rand(10, 4), columns=list('ABCD'))"
   ]
  },
  {
   "cell_type": "markdown",
   "metadata": {},
   "source": [
    "## Ćwiczenie 52\n",
    "\n",
    "Z podanego w ćwiczeniu 51 obiektu typu DataFrame wyodrębnij wiersze dla których dane w kolumnie C przyjmują wartości większe niż 0.8, a w kolumnie D mniejsze niż 0.7."
   ]
  },
  {
   "cell_type": "code",
   "execution_count": null,
   "metadata": {},
   "outputs": [],
   "source": []
  },
  {
   "cell_type": "markdown",
   "metadata": {},
   "source": [
    "## Ćwiczenie 53\n",
    "\n",
    "Dokonaj iteracji przez pięć pierwszych wierszy obiektu DataFrame z ćwiczenia 51."
   ]
  },
  {
   "cell_type": "code",
   "execution_count": null,
   "metadata": {},
   "outputs": [],
   "source": []
  },
  {
   "cell_type": "markdown",
   "metadata": {},
   "source": [
    "## Ćwiczenie 54\n",
    "\n",
    "W obiekcie DataFrame z ćwiczenia 51 ustaw wartość NaN w wierszu z indeksem 3 kolumny B oraz NaN w wierszu o indeksie 8 kolumny D. "
   ]
  },
  {
   "cell_type": "code",
   "execution_count": null,
   "metadata": {},
   "outputs": [],
   "source": []
  },
  {
   "cell_type": "markdown",
   "metadata": {},
   "source": [
    "## Ćwiczenie 55\n",
    "\n",
    "Z obiektu DataFrame z ćwiczenia 54 usuń wszystkie wiersze zawierające brakujące wartości."
   ]
  },
  {
   "cell_type": "code",
   "execution_count": null,
   "metadata": {},
   "outputs": [],
   "source": []
  },
  {
   "cell_type": "markdown",
   "metadata": {},
   "source": [
    "## Ćwiczenie 56\n",
    "\n",
    "Zauważ, że indeks obiektu z ćwiczenia 54 po usunięciu dwóch wierszy nie przyjmuje kolejnych wartości. Zresetuj indeks (nie dodawaj nowej kolumny)."
   ]
  },
  {
   "cell_type": "code",
   "execution_count": null,
   "metadata": {},
   "outputs": [],
   "source": []
  },
  {
   "cell_type": "markdown",
   "metadata": {},
   "source": [
    "## Ćwiczenie 57\n",
    "\n",
    "W obiekcie DataFrame z ćwiczenia 54 określ liczbę brakujących danych w każdej z kolumn."
   ]
  },
  {
   "cell_type": "code",
   "execution_count": null,
   "metadata": {},
   "outputs": [],
   "source": []
  },
  {
   "cell_type": "markdown",
   "metadata": {},
   "source": [
    "## Ćwiczenie 58\n",
    "\n",
    "W obiekcie DataFrame z ćwiczenia 54 zastąp wszystkie brakujące wartości - wartością 0.0."
   ]
  },
  {
   "cell_type": "code",
   "execution_count": null,
   "metadata": {},
   "outputs": [],
   "source": []
  },
  {
   "cell_type": "markdown",
   "metadata": {},
   "source": [
    "## Ćwiczenie 59\n",
    "\n",
    "Zmień kolejność kolumn w obiekcie DataFrame z ćwiczenia 58 na poniższą:\n",
    "\n",
    "- D,A,B,C"
   ]
  },
  {
   "cell_type": "code",
   "execution_count": null,
   "metadata": {},
   "outputs": [],
   "source": []
  },
  {
   "cell_type": "markdown",
   "metadata": {},
   "source": [
    "## Ćwiczenie 60\n",
    "\n",
    "Z obiektu DataFrame z ćwiczenia 59 usuń kolumnę o ozanczeniu D."
   ]
  },
  {
   "cell_type": "code",
   "execution_count": null,
   "metadata": {},
   "outputs": [],
   "source": []
  },
  {
   "cell_type": "markdown",
   "metadata": {},
   "source": [
    "## Ćwiczenie 61\n",
    "\n",
    "Załaduj plik csv z podanego adresu URL do obiektu DataFrame. Ustaw indeks na pierwszą kolumnę załadowanego pliku."
   ]
  },
  {
   "cell_type": "code",
   "execution_count": null,
   "metadata": {},
   "outputs": [],
   "source": [
    "url = 'https://storage.googleapis.com/esmartdata-courses-files/dash-course/data.csv'"
   ]
  },
  {
   "cell_type": "markdown",
   "metadata": {},
   "source": [
    "## Ćwiczenie 62\n",
    "\n",
    "Z obiektu DataFrame z ćwiczenia 61 odczytaj listę nazw wszystkich kolumn."
   ]
  },
  {
   "cell_type": "code",
   "execution_count": null,
   "metadata": {},
   "outputs": [],
   "source": []
  },
  {
   "cell_type": "markdown",
   "metadata": {},
   "source": [
    "## Ćwiczenie 63\n",
    "\n",
    "Z obiektu DataFrame z ćwiczenia 61 usuń kolumnę o nazwie New_Price."
   ]
  },
  {
   "cell_type": "code",
   "execution_count": null,
   "metadata": {},
   "outputs": [],
   "source": []
  },
  {
   "cell_type": "markdown",
   "metadata": {},
   "source": [
    "## Ćwiczenie 64\n",
    "\n",
    "W obiekcie DataFrame z ćwiczenia 61 znajdź liczbę brakujących wartości w każdej kolumnie."
   ]
  },
  {
   "cell_type": "code",
   "execution_count": null,
   "metadata": {},
   "outputs": [],
   "source": []
  },
  {
   "cell_type": "markdown",
   "metadata": {},
   "source": [
    "## Ćwiczenie 65\n",
    "\n",
    "W obiekcie DataFrame z ćwiczenia 61 usuń wszystkie wiersze z brakującymi danymi. Wyświetl informacje o obiekcie."
   ]
  },
  {
   "cell_type": "code",
   "execution_count": null,
   "metadata": {},
   "outputs": [],
   "source": []
  },
  {
   "cell_type": "markdown",
   "metadata": {},
   "source": [
    "## Ćwiczenie 66\n",
    "\n",
    "W nazwach kolumn obiektu DataFrame z ćwiczenia 61 zastąp wszystkie wielkie litery małymi."
   ]
  },
  {
   "cell_type": "code",
   "execution_count": null,
   "metadata": {},
   "outputs": [],
   "source": []
  },
  {
   "cell_type": "markdown",
   "metadata": {},
   "source": [
    "## Ćwiczenie 67\n",
    "\n",
    "Znajdź rozkład zmiennej owner_type w obiekcie DataFrame z ćwiczenia 66."
   ]
  },
  {
   "cell_type": "code",
   "execution_count": null,
   "metadata": {},
   "outputs": [],
   "source": []
  },
  {
   "cell_type": "markdown",
   "metadata": {},
   "source": [
    "## Ćwiczenie 68\n",
    "\n",
    "Wyznacz rozkład zmiennej engine w obiekcie DataFrame z ćwiczenia 66. Zwróć uwagę, że jest to zmienna typu object. Usuń trzy ostatnie znaki z każdego elementu tej zmiennej i dokonaj jej konwersji na typ int."
   ]
  },
  {
   "cell_type": "code",
   "execution_count": null,
   "metadata": {},
   "outputs": [],
   "source": []
  },
  {
   "cell_type": "markdown",
   "metadata": {},
   "source": [
    "## Ćwiczenie 69\n",
    "\n",
    "Wyznacz rozkład zmiennej power w obiekcie DataFrame z ćwiczenia 66. Zwróć uwagę, że w tej zmiennej brakujące wartości oznaczono jako \"null bhp\". Zmień wszystkie brakujące wartości na NaN. Wyświetl rozkład zmiennej po wykonanej konwersji."
   ]
  },
  {
   "cell_type": "code",
   "execution_count": null,
   "metadata": {},
   "outputs": [],
   "source": []
  },
  {
   "cell_type": "markdown",
   "metadata": {},
   "source": [
    "## Ćwiczenie 70\n",
    "\n",
    "W obiekcie DataFrame z ćwiczenia 66 pogrupuj wszystkie dane według kolumny year i policz liczbę wierszy danych dla każdego roku."
   ]
  },
  {
   "cell_type": "code",
   "execution_count": null,
   "metadata": {},
   "outputs": [],
   "source": []
  },
  {
   "cell_type": "markdown",
   "metadata": {},
   "source": [
    "## Ćwiczenie 71\n",
    "\n",
    "Sprawdź rozkład zmiennej transmission w obiekcie DataFrame z ćwiczenia 66 i wykonaj następujące mapowanie wartości tej zmiennej.\n",
    "\n",
    "- Manual    -> 0\n",
    "- Automatic -> 1"
   ]
  },
  {
   "cell_type": "code",
   "execution_count": null,
   "metadata": {},
   "outputs": [],
   "source": []
  },
  {
   "cell_type": "markdown",
   "metadata": {},
   "source": [
    "## Ćwiczenie 72\n",
    "\n",
    "Zapisz obiekt DataFrame z ćwiczenia 71 do pliku w formacie csv bez zapisywania indeksu."
   ]
  },
  {
   "cell_type": "code",
   "execution_count": null,
   "metadata": {},
   "outputs": [],
   "source": []
  },
  {
   "cell_type": "markdown",
   "metadata": {},
   "source": [
    "## Ćwiczenie 73\n",
    "\n",
    "Załaduj do obiektu DataFrame dane w formacie csv z podanego adresu URL i wyświetl informację o obiekcie."
   ]
  },
  {
   "cell_type": "code",
   "execution_count": null,
   "metadata": {},
   "outputs": [],
   "source": [
    "url = 'https://storage.googleapis.com/esmartdata-courses-files/ds-bootcamp/london_bike.csv'"
   ]
  },
  {
   "cell_type": "markdown",
   "metadata": {},
   "source": [
    "## Ćwiczenie 74\n",
    "\n",
    "Wyświetl pięć pierwszych i pięć ostatnich wierszy obiektu DataFramez z ćwiczenia 73."
   ]
  },
  {
   "cell_type": "code",
   "execution_count": null,
   "metadata": {},
   "outputs": [],
   "source": []
  },
  {
   "cell_type": "markdown",
   "metadata": {},
   "source": [
    "## Ćwiczenie 75\n",
    "\n",
    "Zwróć uwagę, że kolumna timestamp w obiekcie DataFrame z ćwiczenia 73 jest typu object. Zamień jej typ na datetime."
   ]
  },
  {
   "cell_type": "code",
   "execution_count": null,
   "metadata": {},
   "outputs": [],
   "source": []
  },
  {
   "cell_type": "markdown",
   "metadata": {},
   "source": [
    "## Ćwiczenie 76\n",
    "\n",
    "Dodaj do obiektu DataFrame z ćwiczenia 75 nową kolumnę hour i przypisz do niej wartość godziny z kolumny timestamp."
   ]
  },
  {
   "cell_type": "code",
   "execution_count": null,
   "metadata": {},
   "outputs": [],
   "source": []
  },
  {
   "cell_type": "markdown",
   "metadata": {},
   "source": [
    "## Ćwiczenie 77\n",
    "\n",
    "Dodaj do obiektu DataFrame z ćwiczenia 76 nową kolumnę month i przypisz do niej numer miesiąca z kolumny timestamp."
   ]
  },
  {
   "cell_type": "code",
   "execution_count": null,
   "metadata": {},
   "outputs": [],
   "source": []
  },
  {
   "cell_type": "markdown",
   "metadata": {},
   "source": [
    "## Ćwiczenie 78\n",
    "\n",
    "Pogrupuj dane z obiektu DataFrame z ćwiczenia 77 według numerów miesięcy obliczając średnią dla zmiennej hum. Przypisz wynik do zmiennej humidity_by_month i zresetuj indeks tej zmiennej."
   ]
  },
  {
   "cell_type": "code",
   "execution_count": null,
   "metadata": {},
   "outputs": [],
   "source": []
  },
  {
   "cell_type": "markdown",
   "metadata": {},
   "source": [
    "## Ćwiczenie 79\n",
    "\n",
    "Pogrupuj dane z obiektu DataFrame z ćwiczenia 77 według kolumny hour obliczając średnią dla zmiennej cnt. Przypisz wynik do zmiennej cnt_by_hour i zresetuj indeks tej zmiennej."
   ]
  },
  {
   "cell_type": "code",
   "execution_count": null,
   "metadata": {},
   "outputs": [],
   "source": []
  },
  {
   "cell_type": "markdown",
   "metadata": {},
   "source": [
    "## Ćwiczenie 80\n",
    "\n",
    "Pogrupuj dane z obiektu DataFrame z ćwiczenia 77 według zmiennych is_weekend oraz hour obliczając średnią dla zmiennej cnt. Przypisz wynik do zmiennej cnt_by_weekend_hour i zresetuj indeks tej zmiennej."
   ]
  },
  {
   "cell_type": "code",
   "execution_count": null,
   "metadata": {},
   "outputs": [],
   "source": []
  },
  {
   "cell_type": "markdown",
   "metadata": {},
   "source": [
    "## Ćwiczenie 81\n",
    "\n",
    "Z obiektu DataFrame z ćwiczenia 77 wyodrębnij wiersze dla których zmienna wind_speed przyjmuje wartości mniejsze niż 10.0 oraz zmienna hum wartości większe niż 90.0."
   ]
  },
  {
   "cell_type": "code",
   "execution_count": null,
   "metadata": {},
   "outputs": [],
   "source": []
  },
  {
   "cell_type": "markdown",
   "metadata": {},
   "source": [
    "## Ćwiczenie 82\n",
    "\n",
    "Z obiektu DataFrame z ćwiczenia 77 wyodrębnij wiersze dla których zmienna is_weekend przyjmuje wartość 1. Wyodrębnione wiersze przypisz do nowej zmiennej typy DataFrame."
   ]
  },
  {
   "cell_type": "code",
   "execution_count": null,
   "metadata": {},
   "outputs": [],
   "source": []
  },
  {
   "cell_type": "markdown",
   "metadata": {},
   "source": [
    "## Ćwiczenie 83\n",
    "\n",
    "Zapisz obiekt DataFrame utworzony w ćwiczeniu 82 do pliku tekstowego. Pomiń zapisywanie indeksu."
   ]
  },
  {
   "cell_type": "code",
   "execution_count": null,
   "metadata": {},
   "outputs": [],
   "source": []
  },
  {
   "cell_type": "markdown",
   "metadata": {},
   "source": [
    "## Ćwiczenie 84\n",
    "\n",
    "Załaduj z adresu URL plik csv do obiektu DataFrame."
   ]
  },
  {
   "cell_type": "code",
   "execution_count": null,
   "metadata": {},
   "outputs": [],
   "source": [
    "url = 'https://storage.googleapis.com/esmartdata-courses-files/ml-course/insurance.csv'"
   ]
  },
  {
   "cell_type": "markdown",
   "metadata": {},
   "source": [
    "## Ćwiczenie 85\n",
    "\n",
    "Sprawdź czy w obiekcie DataFrame z ćwiczenia 84 istnieją zduplikowane wiersze."
   ]
  },
  {
   "cell_type": "code",
   "execution_count": null,
   "metadata": {},
   "outputs": [],
   "source": []
  },
  {
   "cell_type": "markdown",
   "metadata": {},
   "source": [
    "## Ćwiczenie 86\n",
    "\n",
    "Z obiektu DataFrame z ćwiczenia 84 usuń zduplikowane wiersze. Wyśiwetl infomacje o obiekcie."
   ]
  },
  {
   "cell_type": "code",
   "execution_count": null,
   "metadata": {},
   "outputs": [],
   "source": []
  },
  {
   "cell_type": "markdown",
   "metadata": {},
   "source": [
    "## Ćwiczenie 87\n",
    "\n",
    "Wyświetl kolumny o typie zmiennej obiect objektu DataFrame z ćwiczenia 86."
   ]
  },
  {
   "cell_type": "code",
   "execution_count": null,
   "metadata": {},
   "outputs": [],
   "source": []
  },
  {
   "cell_type": "markdown",
   "metadata": {},
   "source": [
    "## Ćwiczenie 88\n",
    "\n",
    "Przekonwertuj zmienne obiektu DataFrame z ćwiczenia 86 o nazwach:\n",
    "- sex\n",
    "- smoker\n",
    "- region\n",
    "\n",
    "\n",
    "na typ kategorialny. Wyświetl infomacje o obiekcie."
   ]
  },
  {
   "cell_type": "code",
   "execution_count": null,
   "metadata": {},
   "outputs": [],
   "source": []
  },
  {
   "cell_type": "markdown",
   "metadata": {},
   "source": [
    "## Ćwiczenie 89\n",
    "\n",
    "Znajdź nazwy kolumn obiektu DataDramez z ćwiczenia 87 zawierających dane typu float i przedstaw je jako listę."
   ]
  },
  {
   "cell_type": "code",
   "execution_count": null,
   "metadata": {},
   "outputs": [],
   "source": []
  },
  {
   "cell_type": "markdown",
   "metadata": {},
   "source": [
    "## Ćwiczenie 90\n",
    "\n",
    "Wykonaj na obiekcie DataFrame z ćwiczenia 86 następujące operacje:\n",
    "\n",
    "- przypisz do zmiennej df_cat wszystkie kolumny zawierające zmienne kategorialne (utwórz kopię)\n",
    "- przypisz do zmiennej df_num wszystkie kolumny zawierające zmienne numeryczne (utwórz kopię)"
   ]
  },
  {
   "cell_type": "code",
   "execution_count": null,
   "metadata": {},
   "outputs": [],
   "source": []
  },
  {
   "cell_type": "markdown",
   "metadata": {},
   "source": [
    "## Ćwiczenie 91\n",
    "\n",
    "Wyświetl statystki zmiennej df_cat utworzonej w ćwiczeniu 90."
   ]
  },
  {
   "cell_type": "code",
   "execution_count": null,
   "metadata": {},
   "outputs": [],
   "source": []
  },
  {
   "cell_type": "markdown",
   "metadata": {},
   "source": [
    "## Ćwiczenie 92\n",
    "\n",
    "Wyświetl statystki zmiennej df_num utworzonej w ćwiczeniu 90."
   ]
  },
  {
   "cell_type": "code",
   "execution_count": null,
   "metadata": {},
   "outputs": [],
   "source": []
  },
  {
   "cell_type": "markdown",
   "metadata": {},
   "source": [
    "## Ćwiczenie 93\n",
    "\n",
    "Wyświetl średnie i odchylenie standardowe dla zmiennych numerycznych z obiektu DataFrame z ćwiczenia 86."
   ]
  },
  {
   "cell_type": "code",
   "execution_count": null,
   "metadata": {},
   "outputs": [],
   "source": []
  },
  {
   "cell_type": "markdown",
   "metadata": {},
   "source": [
    "## Ćwiczenie 94\n",
    "\n",
    "Sprawdź, czy w obiekcie DataFrame utworzonym w ćwiczeniu 86 brakuje jakichkolwiek danych."
   ]
  },
  {
   "cell_type": "code",
   "execution_count": null,
   "metadata": {},
   "outputs": [],
   "source": []
  },
  {
   "cell_type": "markdown",
   "metadata": {},
   "source": [
    "## Ćwiczenie 95\n",
    "\n",
    "Dokonaj mapowania odpowiedzi w zmiennch kategorialnych do wartości 0 i 1 w obiekcie DataFrame z ćwiczenia 86. Po zakodowaniu wszystkie kolumny zawierające zmienne kategorialne przypisz do zmiennej df_dummies."
   ]
  },
  {
   "cell_type": "code",
   "execution_count": null,
   "metadata": {},
   "outputs": [],
   "source": []
  },
  {
   "cell_type": "markdown",
   "metadata": {},
   "source": [
    "## Ćwiczenie 96\n",
    "\n",
    "Wyzancz macierz korelacji zmiennych w obiekcie df_dummies utworzonej w świczeniu 95. Macierz korelacji zapisz w zmiennej corr"
   ]
  },
  {
   "cell_type": "code",
   "execution_count": null,
   "metadata": {},
   "outputs": [],
   "source": []
  },
  {
   "cell_type": "markdown",
   "metadata": {},
   "source": [
    "## Ćwiczenie 97\n",
    "\n",
    "Z macierzy korelacji utworzonej w ćwiczeniu 96 wyodrębnij kolumnę charges i posortuj jej wartości w porządku malejącym."
   ]
  },
  {
   "cell_type": "code",
   "execution_count": null,
   "metadata": {},
   "outputs": [],
   "source": []
  },
  {
   "cell_type": "markdown",
   "metadata": {},
   "source": [
    "## Ćwiczenie 98\n",
    "\n",
    "Skopujuj obiekt df_dummies do obiektu data. Następnie odczytaj z obiektu data kolumnę charges i przypisz ją do zmiennej target."
   ]
  },
  {
   "cell_type": "code",
   "execution_count": null,
   "metadata": {},
   "outputs": [],
   "source": []
  },
  {
   "cell_type": "markdown",
   "metadata": {},
   "source": [
    "## Ćwiczenie 99\n",
    "\n",
    "Utwórz obiekt typu DataFrame z poniższego słownika."
   ]
  },
  {
   "cell_type": "code",
   "execution_count": null,
   "metadata": {},
   "outputs": [],
   "source": [
    "data = {\n",
    "    'size': ['XL', 'L', 'M', 'L', 'M'],\n",
    "    'color': ['red', 'green', 'blue', 'green', 'red'],\n",
    "    'gender': ['female', 'male', 'male', 'female', 'female'],\n",
    "    'price': [199.0, 89.0, 99.0, 129.0, 79.0],\n",
    "    'weight': [500, 450, 300, 380, 410],\n",
    "    'bought': ['yes', 'no', 'yes', 'no', 'yes']\n",
    "}"
   ]
  },
  {
   "cell_type": "markdown",
   "metadata": {},
   "source": [
    "## Ćwiczenie 100\n",
    "\n",
    "Wyświetl informacje o obiekcie DataFrame utworzonym w ćwiczeniu 99. A następnie przekonwertuj kolumny na odpowiedni typ według poniższego schematu:\n",
    "\n",
    "- size   -> category\n",
    "- color  -> category\n",
    "- gender -> category\n",
    "- weight -> float\n",
    "- bought -> category\n",
    "\n",
    "Ponownie wyświetl informacje o obiekcie."
   ]
  },
  {
   "cell_type": "code",
   "execution_count": null,
   "metadata": {},
   "outputs": [],
   "source": []
  },
  {
   "cell_type": "markdown",
   "metadata": {},
   "source": [
    "## Ćwiczenie 101\n",
    "\n",
    "Przekoduj wszystkie zmienne kategorialne w obiekcie DataFrane z ćwiczenia 100 na kodowanie 0-1 w miejsce \"no\" - \"yes\"."
   ]
  },
  {
   "cell_type": "code",
   "execution_count": null,
   "metadata": {},
   "outputs": [],
   "source": []
  },
  {
   "cell_type": "markdown",
   "metadata": {},
   "source": [
    "## Ćwiczenie 102\n",
    "\n",
    "Przekoduj wszystkie zmienne kategorialne w obiekcie DataFrane z ćwiczenia 100 na kodowanie 0-1 w miejsce \"no\" - \"yes\". Użyj dodatkowo argumentu `drop_first = True`."
   ]
  },
  {
   "cell_type": "code",
   "execution_count": null,
   "metadata": {},
   "outputs": [],
   "source": []
  },
  {
   "cell_type": "markdown",
   "metadata": {},
   "source": [
    "## Ćwiczenie 103\n",
    "\n",
    "Podany plik market.json wczytaj do obiektu typu DataFrame."
   ]
  },
  {
   "cell_type": "code",
   "execution_count": null,
   "metadata": {},
   "outputs": [],
   "source": []
  },
  {
   "cell_type": "markdown",
   "metadata": {},
   "source": [
    "## Ćwiczenie 104\n",
    "\n",
    "W obiekcie DataFrame z ćwiczenia 103 odczytaj nazwę kraju z kolumny Profil. Odczytane dane umieść w nowej kolumnie o nazwie Kraj."
   ]
  },
  {
   "cell_type": "code",
   "execution_count": null,
   "metadata": {},
   "outputs": [],
   "source": []
  },
  {
   "cell_type": "markdown",
   "metadata": {},
   "source": [
    "## Ćwiczenie 105\n",
    "\n",
    "Z obiektu DataFrame z ćwiczenia 104 wybierz kolumnę Kraj i wyświeetl posortowaną listę nazw krajów, które występują więcej niż raz."
   ]
  },
  {
   "cell_type": "code",
   "execution_count": null,
   "metadata": {},
   "outputs": [],
   "source": []
  },
  {
   "cell_type": "markdown",
   "metadata": {},
   "source": [
    "## Ćwiczenie 106\n",
    "\n",
    "W obiekcie DataFrame z ćwiczenia 104 zmienna \"Zmiana %\" posiada typ object. Przekonwertuj zmienną na typ float."
   ]
  },
  {
   "cell_type": "code",
   "execution_count": null,
   "metadata": {},
   "outputs": [],
   "source": []
  },
  {
   "cell_type": "markdown",
   "metadata": {},
   "source": [
    "## Ćwiczenie 107\n",
    "\n",
    "Na obiekcie DataFrame z ćwiczenia 106 wykonaj poniższe operacje:\n",
    "- wyświetl wiersz o najmniejszej wartości w kolumnie \"Zmiana %\"\n",
    "- wyświetl wiersz o największej wartości w kolumnie \"Zmiana %\""
   ]
  },
  {
   "cell_type": "code",
   "execution_count": null,
   "metadata": {},
   "outputs": [],
   "source": []
  },
  {
   "cell_type": "markdown",
   "metadata": {},
   "source": [
    "## Ćwiczenie 108\n",
    "\n",
    "Z obiektu DataFrame z ćwiczenia 106 wyodrębnij wszystkie wiersze dla których wartość w kolumnie \"Zmiana %\" jest większa lub równa 0.0 i zapisz je w pliku \"positive.json\". Wiersze dla których wartość jest ujemna zapisz do pliku \"negative.json\"."
   ]
  },
  {
   "cell_type": "code",
   "execution_count": null,
   "metadata": {},
   "outputs": [],
   "source": []
  },
  {
   "cell_type": "markdown",
   "metadata": {},
   "source": [
    "## Ćwiczenie 109\n",
    "\n",
    "Podane są dwa pliki:\n",
    "\n",
    "- amazon.csv\n",
    "- tesla.csv\n",
    "\n",
    "Wczytaj pliki do dwóch obiektów DataFrame. Ustaw indeks na kolumnę Date. Wyświetl zawartość plików."
   ]
  },
  {
   "cell_type": "code",
   "execution_count": null,
   "metadata": {},
   "outputs": [],
   "source": []
  },
  {
   "cell_type": "markdown",
   "metadata": {},
   "source": [
    "## Ćwiczenie 110\n",
    "\n",
    "W odczytanych wcześniej obiektach DataFrame dodaj prefix amzn do każdej nazwy kolumny obiektu amazon oraz tsla do każdej kolumny obiektu tesla. Ponadto zmień wielkie litery na małe w nazwach wszystkich kolumn obu obiektów."
   ]
  },
  {
   "cell_type": "code",
   "execution_count": null,
   "metadata": {},
   "outputs": [],
   "source": []
  },
  {
   "cell_type": "markdown",
   "metadata": {},
   "source": [
    "## Ćwiczenie 111\n",
    "\n",
    "Połącz obiekty DataFrame z ćwiczenia 110."
   ]
  },
  {
   "cell_type": "code",
   "execution_count": null,
   "metadata": {},
   "outputs": [],
   "source": []
  },
  {
   "cell_type": "markdown",
   "metadata": {},
   "source": [
    "## Ćwiczenie 112\n",
    "\n",
    "Z połączonego w ćwiczeniu 111 obiektu DataFrame wybierz kolumny amzn_open, amaz_close, tsla_open, tsla_close i zapisz je w nowym obiekcie DataFrame."
   ]
  },
  {
   "cell_type": "code",
   "execution_count": null,
   "metadata": {},
   "outputs": [],
   "source": []
  },
  {
   "cell_type": "markdown",
   "metadata": {},
   "source": [
    "## Ćwiczenie 113\n",
    "\n",
    "Przypisz do obeiktu DataFrame utworzonego w ćwiczeniu 112 nowe kolumny:\n",
    "- amzn_change\n",
    "- tsla_change\n",
    "\n",
    "które będą zawierały procentową zmian ceny close w stosunku do ceny open wyliczoną według zależności:\n",
    "- zmiana = close / open -1"
   ]
  },
  {
   "cell_type": "code",
   "execution_count": null,
   "metadata": {},
   "outputs": [],
   "source": []
  },
  {
   "cell_type": "markdown",
   "metadata": {},
   "source": [
    "## Ćwiczenie 114\n",
    "\n",
    "Do obiektu DataFrame z ćwiczenia 113 dodaj nową kolumnę similarity_flag, której wartości przyjmą wartość 1 kiedy znak wartości zapisanej w kolumnach amzn_change i tsla_change będzie tego samego znaku i 0 w przypadku przeciwnym."
   ]
  },
  {
   "cell_type": "code",
   "execution_count": null,
   "metadata": {},
   "outputs": [],
   "source": []
  },
  {
   "cell_type": "markdown",
   "metadata": {},
   "source": [
    "## Ćwiczenie 115\n",
    "\n",
    "Oblicz procent sesji giełdowych dla któryxh spółki Amazon i Tesla miały ten sam kierunek notowań (similarity_flag == 1)."
   ]
  },
  {
   "cell_type": "code",
   "execution_count": null,
   "metadata": {},
   "outputs": [],
   "source": []
  },
  {
   "cell_type": "markdown",
   "metadata": {},
   "source": [
    "## Ćwiczenie 116\n",
    "\n",
    "Podane są trzy słowniki. Zbuduj z nich trzy obiekty DataFrame o nazwach:\n",
    "\n",
    "- products\n",
    "- orders_day_1\n",
    "- orders_day_2"
   ]
  },
  {
   "cell_type": "code",
   "execution_count": null,
   "metadata": {},
   "outputs": [],
   "source": [
    "products_dict = {\n",
    "    'product_id': ['001', '004', '007', '010'],\n",
    "    'name': ['mobile phone', 'laptop', 'mouse', 'tablet'],\n",
    "    'price': [1490.0, 3400.0, 59.99, 999.00]\n",
    "}\n",
    "\n",
    "orders_day_1_dict = {\n",
    "    'order_id': ['1001', '1002', '1003', '1004'],\n",
    "    'product_id': ['004', '001', '001', '007'],\n",
    "    'quantity': [2, 1, 1, 3]\n",
    "}       \n",
    "\n",
    "orders_day_2_dict = {\n",
    "    'order_id': ['1005', '1006', '1007'],\n",
    "    'product_id': ['010', '001', '007'],\n",
    "    'quantity': [2, 1, 1]\n",
    "}"
   ]
  },
  {
   "cell_type": "markdown",
   "metadata": {},
   "source": [
    "## Ćwiczenie 117\n",
    "\n",
    "Połacz obiekty orders_day_1 i orders_day_2 w jeden obiekt orders. Zwróć uwagę na indeks połączonego obiektu (nie dopuść do aliasowania)."
   ]
  },
  {
   "cell_type": "code",
   "execution_count": null,
   "metadata": {},
   "outputs": [],
   "source": []
  },
  {
   "cell_type": "markdown",
   "metadata": {},
   "source": [
    "## Ćwiczenie 118\n",
    "\n",
    "Utwórz obiekt DataFrame o nazwie results poprzez połączenie obiektów products i orders po wartości kolumny product_id."
   ]
  },
  {
   "cell_type": "code",
   "execution_count": null,
   "metadata": {},
   "outputs": [],
   "source": []
  },
  {
   "cell_type": "markdown",
   "metadata": {},
   "source": [
    "## Ćwiczenie 119\n",
    "\n",
    "Na podstawie kolumn quantity oraz price dodaj do obiektu DataFrame utworzonego w ćwiczeniu 118 nową kolumnę o nazwie total zawierającą łączną kwotę każdego zamówienia."
   ]
  },
  {
   "cell_type": "code",
   "execution_count": null,
   "metadata": {},
   "outputs": [],
   "source": []
  },
  {
   "cell_type": "markdown",
   "metadata": {},
   "source": [
    "## Ćwiczenie 120\n",
    "\n",
    "Zapisz obiekt DataFrame z ćwiczenia 119 do plików:\n",
    "\n",
    "- results.csv (pomiń indeks przy zapisie)\n",
    "- results.html\n",
    "- results.json - ustaw wcięcie na 4 znaki spacji"
   ]
  },
  {
   "cell_type": "code",
   "execution_count": null,
   "metadata": {},
   "outputs": [],
   "source": []
  },
  {
   "cell_type": "markdown",
   "metadata": {},
   "source": [
    "## Ćwiczenie 121\n",
    "\n",
    "Dane są dwa obiekty typu DataFrame. Wykorzytując metodę merge dokonaj połączenia obu obiektów typu INNER wykorzystując kolumnę dept_id."
   ]
  },
  {
   "cell_type": "code",
   "execution_count": null,
   "metadata": {},
   "outputs": [],
   "source": [
    "employees = pd.DataFrame({\n",
    "    'emp_id': ['1001', '1002', '1003', '1004'],\n",
    "    'first_name': ['John', 'Mark', 'Bob', 'Alice'],\n",
    "    'last_name': ['Smith', 'Cook', 'Cat', 'Lee'],\n",
    "    'dept_id': ['002', '001', '001', '005']\n",
    "})\n",
    "\n",
    "departments = pd.DataFrame({\n",
    "    'dept_id': ['001', '002', '003', '004'],\n",
    "    'dept_name': ['IT', 'Sales', 'Marketing', 'Support']\n",
    "})"
   ]
  },
  {
   "cell_type": "markdown",
   "metadata": {},
   "source": [
    "## Ćwiczenie 122\n",
    "\n",
    "Wykorzystaj obiekty DataFrame z ćwiczenia 121 do połączenia metodę merge typu LEFT wykorzystując kolumnę dept_id. Zwróć uwagę na brak dept_id o wartości \"005\"."
   ]
  },
  {
   "cell_type": "code",
   "execution_count": null,
   "metadata": {},
   "outputs": [],
   "source": []
  },
  {
   "cell_type": "markdown",
   "metadata": {},
   "source": [
    "## Ćwiczenie 123\n",
    "\n",
    "Wykorzystaj obiekty DataFrame z ćwiczenia 121 do połączenia metodę merge typu RIGHT wykorzystując kolumnę dept_id. Zwróć uwagę na brak dept_id o wartości \"003\" i \"004\"."
   ]
  },
  {
   "cell_type": "code",
   "execution_count": null,
   "metadata": {},
   "outputs": [],
   "source": []
  },
  {
   "cell_type": "markdown",
   "metadata": {},
   "source": [
    "## Ćwiczenie 124\n",
    "\n",
    "Wykorzystaj obiekty DataFrame z ćwiczenia 121 do połączenia metodę merge typu OUTER wykorzystując kolumnę dept_id. Zwróć uwagę na brakujące dane."
   ]
  },
  {
   "cell_type": "code",
   "execution_count": null,
   "metadata": {},
   "outputs": [],
   "source": []
  },
  {
   "cell_type": "markdown",
   "metadata": {},
   "source": [
    "## Ćwiczenie 125\n",
    "\n",
    "Dane są dwa obiekty typu DataFrame. Wykorzytując metodę merge dokonaj połączenia obu obiektów typu INNER wykorzystując kolumnę dept_id. Zwróć uwagę na zduplikowany wiersz w obiekcie employees."
   ]
  },
  {
   "cell_type": "code",
   "execution_count": null,
   "metadata": {},
   "outputs": [],
   "source": [
    "employees = pd.DataFrame({\n",
    "    'emp_id': ['1001', '1002', '1003', '1003', '1004'],\n",
    "    'first_name': ['John', 'Mark', 'Bob', 'Bob', 'Alice'],\n",
    "    'last_name': ['Smith', 'Cook', 'Cat', 'Cat', 'Lee'],\n",
    "    'dept_id': ['002', '001', '001', '001', '005']\n",
    "})\n",
    "\n",
    "departments = pd.DataFrame({\n",
    "    'dept_id': ['001', '002', '003', '004'],\n",
    "    'dept_name': ['IT', 'Sales', 'Marketing', 'Support']\n",
    "})"
   ]
  },
  {
   "cell_type": "markdown",
   "metadata": {},
   "source": [
    "## Ćwiczenie 126\n",
    "\n",
    "Wykonaj taką samą operację jak w ćwiczeniu 125 ale tym razem przed połączeniem usuń z danych zduplikowane dane."
   ]
  },
  {
   "cell_type": "markdown",
   "metadata": {},
   "source": [
    "## Ćwiczenie 127\n",
    "\n",
    "Przygotuj korzystając z tabeli przestawnej następujące zestawienie z podanych danych.\n",
    "\n",
    "               tip  total_bill\n",
    "    day                       \n",
    "    Fri   2.734737   17.151579\n",
    "    Sat   2.993103   20.441379\n",
    "    Sun   3.255132   21.410000\n",
    "    Thur  2.771452   17.682742"
   ]
  },
  {
   "cell_type": "code",
   "execution_count": null,
   "metadata": {},
   "outputs": [],
   "source": [
    "tips = pd.read_csv('https://raw.githubusercontent.com/mwaskom/seaborn-data/master/tips.csv')"
   ]
  },
  {
   "cell_type": "markdown",
   "metadata": {},
   "source": [
    "## Ćwiczenie 128\n",
    "\n",
    "Przygotuj korzystając z tabeli przestawnej następujące zestawienie z podanych w ćwiczeniu 127 danych.\n",
    "\n",
    "                      tip  total_bill\n",
    "    day  sex                         \n",
    "    Fri  Female  2.781111   14.145556\n",
    "         Male    2.693000   19.857000\n",
    "    Sat  Female  2.801786   19.680357\n",
    "         Male    3.083898   20.802542\n",
    "    Sun  Female  3.367222   19.872222\n",
    "         Male    3.220345   21.887241\n",
    "    Thur Female  2.575625   16.715312\n",
    "         Male    2.980333   18.714667"
   ]
  },
  {
   "cell_type": "code",
   "execution_count": null,
   "metadata": {},
   "outputs": [],
   "source": []
  },
  {
   "cell_type": "markdown",
   "metadata": {},
   "source": [
    "## Ćwiczenie 129\n",
    "\n",
    "Przygotuj korzystając z tabeli przestawnej następujące zestawienie z podanych w ćwiczeniu 127 danych.\n",
    "\n",
    "            tip  total_bill\n",
    "    day                    \n",
    "    Fri    4.73       40.17\n",
    "    Sat   10.00       50.81\n",
    "    Sun    6.50       48.17\n",
    "    Thur   6.70       43.11"
   ]
  },
  {
   "cell_type": "code",
   "execution_count": null,
   "metadata": {},
   "outputs": [],
   "source": []
  },
  {
   "cell_type": "markdown",
   "metadata": {},
   "source": [
    "## Ćwiczenie 130\n",
    "\n",
    "Przygotuj korzystając z tabeli przestawnej następujące zestawienie z podanych w ćwiczeniu 127 danych.\n",
    "\n",
    "                             tip  total_bill\n",
    "    day  sex    smoker                      \n",
    "    Fri  Female No      3.125000   19.365000\n",
    "                Yes     2.682857   12.654286\n",
    "         Male   No      2.500000   17.475000\n",
    "                Yes     2.741250   20.452500\n",
    "    Sat  Female No      2.724615   19.003846\n",
    "                Yes     2.868667   20.266667\n",
    "         Male   No      3.256563   19.929063\n",
    "                Yes     2.879259   21.837778\n",
    "    Sun  Female No      3.329286   20.824286\n",
    "                Yes     3.500000   16.540000\n",
    "         Male   No      3.115349   20.403256\n",
    "                Yes     3.521333   26.141333\n",
    "    Thur Female No      2.459600   16.014400\n",
    "                Yes     2.990000   19.218571\n",
    "         Male   No      2.941500   18.486500\n",
    "                Yes     3.058000   19.171000"
   ]
  },
  {
   "cell_type": "code",
   "execution_count": null,
   "metadata": {},
   "outputs": [],
   "source": []
  },
  {
   "cell_type": "markdown",
   "metadata": {},
   "source": [
    "## Ćwiczenie 131\n",
    "\n",
    "Z tabeli przestawnej z ćwiczenia 130 wybierz wiersze zawierające dane dla niedzieli."
   ]
  },
  {
   "cell_type": "code",
   "execution_count": null,
   "metadata": {},
   "outputs": [],
   "source": []
  },
  {
   "cell_type": "markdown",
   "metadata": {},
   "source": [
    "## Ćwiczenie 131\n",
    "\n",
    "Z tabeli przestawnej z ćwiczenia 130 wybierz wiersze zawierające dane dla niedzieli oraz wyłącznie dla mężczyzn."
   ]
  },
  {
   "cell_type": "code",
   "execution_count": null,
   "metadata": {},
   "outputs": [],
   "source": []
  }
 ],
 "metadata": {
  "kernelspec": {
   "display_name": "Python 3",
   "language": "python",
   "name": "python3"
  },
  "language_info": {
   "codemirror_mode": {
    "name": "ipython",
    "version": 3
   },
   "file_extension": ".py",
   "mimetype": "text/x-python",
   "name": "python",
   "nbconvert_exporter": "python",
   "pygments_lexer": "ipython3",
   "version": "3.8.5"
  }
 },
 "nbformat": 4,
 "nbformat_minor": 4
}
